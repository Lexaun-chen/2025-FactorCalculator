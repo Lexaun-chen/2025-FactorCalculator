{
 "cells": [
  {
   "cell_type": "code",
   "execution_count": 1,
   "metadata": {},
   "outputs": [
    {
     "name": "stdout",
     "output_type": "stream",
     "text": [
      "(252, 5000, 12)\n"
     ]
    }
   ],
   "source": [
    "### quick test ###\n",
    "\n",
    "import numpy as np\n",
    "from operators import *\n",
    "\n",
    "np.random.seed(42)\n",
    "ma = np.random.random((252, 5000, 12))\n",
    "mb = np.random.random((252, 5000, 12))\n",
    "res = divide(ma, mb)\n",
    "print(res.shape)"
   ]
  },
  {
   "cell_type": "code",
   "execution_count": null,
   "metadata": {},
   "outputs": [],
   "source": []
  },
  {
   "cell_type": "code",
   "execution_count": 2,
   "metadata": {},
   "outputs": [
    {
     "name": "stderr",
     "output_type": "stream",
     "text": [
      "100%|██████████| 242/242 [00:15<00:00, 16.06it/s]\n"
     ]
    }
   ],
   "source": [
    "### preprocessing ###\n",
    "\n",
    "import warnings\n",
    "from Data_Provider import *\n",
    "\n",
    "warnings.simplefilter(\"ignore\")\n",
    "data_provider = ReturnDaily_Provider()\n",
    "data_provider.download(start='2023-01-01', end='2023-12-31')"
   ]
  },
  {
   "cell_type": "code",
   "execution_count": 3,
   "metadata": {},
   "outputs": [
    {
     "name": "stderr",
     "output_type": "stream",
     "text": [
      "100%|██████████| 12/12 [00:07<00:00,  1.62it/s]\n",
      "100%|██████████| 12/12 [00:07<00:00,  1.55it/s]\n"
     ]
    }
   ],
   "source": [
    "### preprocessing ###\n",
    "\n",
    "from Data_Provider import *\n",
    "\n",
    "data_provider = Fundamental_Provider(start='2023-01-01', end='2023-12-31', workers=1)\n",
    "data_provider.download(start='2023-01-01', end='2023-12-31')\n",
    "data_provider.process(start='2023-01-01', end='2023-12-31')"
   ]
  },
  {
   "cell_type": "code",
   "execution_count": 4,
   "metadata": {},
   "outputs": [
    {
     "name": "stderr",
     "output_type": "stream",
     "text": [
      "loading data from disk: 100%|██████████| 12/12 [00:00<00:00, 62.79it/s]\n"
     ]
    },
    {
     "name": "stdout",
     "output_type": "stream",
     "text": [
      "(12, 5141, 12, 3)\n"
     ]
    }
   ],
   "source": [
    "### load data ###\n",
    "\n",
    "import os\n",
    "from Data_Provider import *\n",
    "\n",
    "feature_names = os.listdir(\"./Fundamental/Lib\")\n",
    "data_provider = Fundamental_Provider(start='2023-01-01', end='2023-12-31', workers=1)\n",
    "data = data_provider.get_data(start='2023-01-01', end='2023-12-31', feature_names=feature_names)\n",
    "print(data.shape)"
   ]
  },
  {
   "cell_type": "code",
   "execution_count": 5,
   "metadata": {},
   "outputs": [
    {
     "name": "stdout",
     "output_type": "stream",
     "text": [
      "(12, 5141, 12)\n"
     ]
    }
   ],
   "source": [
    "### calculate ###\n",
    "\n",
    "feature_data = {}\n",
    "for i, col in enumerate(feature_names):\n",
    "    feature_data[col] = data[:, :, :, i]\n",
    "res = rolling_corr(feature_data[feature_names[0]], feature_data[feature_names[1]], window=8, axis=-1)\n",
    "print(res.shape)"
   ]
  }
 ],
 "metadata": {
  "kernelspec": {
   "display_name": "openfe",
   "language": "python",
   "name": "python3"
  },
  "language_info": {
   "codemirror_mode": {
    "name": "ipython",
    "version": 3
   },
   "file_extension": ".py",
   "mimetype": "text/x-python",
   "name": "python",
   "nbconvert_exporter": "python",
   "pygments_lexer": "ipython3",
   "version": "3.9.20"
  }
 },
 "nbformat": 4,
 "nbformat_minor": 2
}
